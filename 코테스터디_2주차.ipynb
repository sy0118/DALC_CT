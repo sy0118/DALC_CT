{
  "nbformat": 4,
  "nbformat_minor": 0,
  "metadata": {
    "colab": {
      "name": "코테스터디_2주차.ipynb",
      "provenance": [],
      "collapsed_sections": []
    },
    "kernelspec": {
      "name": "python3",
      "display_name": "Python 3"
    },
    "language_info": {
      "name": "python"
    }
  },
  "cells": [
    {
      "cell_type": "markdown",
      "metadata": {
        "id": "BsAp-oPGbM4c"
      },
      "source": [
        "## 5장"
      ]
    },
    {
      "cell_type": "markdown",
      "metadata": {
        "id": "Bjk-2U2hde05"
      },
      "source": [
        "### 리스트"
      ]
    },
    {
      "cell_type": "markdown",
      "metadata": {
        "id": "XC9u6ToFbXii"
      },
      "source": [
        "#### 리스트의 활용 방법 (p.123)"
      ]
    },
    {
      "cell_type": "code",
      "metadata": {
        "id": "HFMs2JJKbWm0"
      },
      "source": [
        "a = list()\n",
        "a = []"
      ],
      "execution_count": 1,
      "outputs": []
    },
    {
      "cell_type": "code",
      "metadata": {
        "colab": {
          "base_uri": "https://localhost:8080/"
        },
        "id": "GeiWZDw9boSu",
        "outputId": "0c4f281c-3c42-4690-f7e9-ce28d338bad3"
      },
      "source": [
        "a = [1,2,3]\n",
        "a"
      ],
      "execution_count": 2,
      "outputs": [
        {
          "output_type": "execute_result",
          "data": {
            "text/plain": [
              "[1, 2, 3]"
            ]
          },
          "metadata": {
            "tags": []
          },
          "execution_count": 2
        }
      ]
    },
    {
      "cell_type": "code",
      "metadata": {
        "colab": {
          "base_uri": "https://localhost:8080/"
        },
        "id": "ys3d7sDibr0r",
        "outputId": "e3008ac7-0d74-4b77-ec7c-d691525b3633"
      },
      "source": [
        "a.append(4)\n",
        "a"
      ],
      "execution_count": 3,
      "outputs": [
        {
          "output_type": "execute_result",
          "data": {
            "text/plain": [
              "[1, 2, 3, 4]"
            ]
          },
          "metadata": {
            "tags": []
          },
          "execution_count": 3
        }
      ]
    },
    {
      "cell_type": "code",
      "metadata": {
        "colab": {
          "base_uri": "https://localhost:8080/"
        },
        "id": "p0cqBhFcbt9V",
        "outputId": "68b30545-a1ef-4300-fb0b-6387f9e135e4"
      },
      "source": [
        "a.insert(3,5)\n",
        "a"
      ],
      "execution_count": 4,
      "outputs": [
        {
          "output_type": "execute_result",
          "data": {
            "text/plain": [
              "[1, 2, 3, 5, 4]"
            ]
          },
          "metadata": {
            "tags": []
          },
          "execution_count": 4
        }
      ]
    },
    {
      "cell_type": "code",
      "metadata": {
        "colab": {
          "base_uri": "https://localhost:8080/"
        },
        "id": "K5iLHkuebvok",
        "outputId": "fd78e61d-eee0-49e9-90b5-ff4cd037954f"
      },
      "source": [
        "a.append('안녕')\n",
        "a.append(True)\n",
        "a"
      ],
      "execution_count": 5,
      "outputs": [
        {
          "output_type": "execute_result",
          "data": {
            "text/plain": [
              "[1, 2, 3, 5, 4, '안녕', True]"
            ]
          },
          "metadata": {
            "tags": []
          },
          "execution_count": 5
        }
      ]
    },
    {
      "cell_type": "code",
      "metadata": {
        "colab": {
          "base_uri": "https://localhost:8080/"
        },
        "id": "E1vDzpF8b35I",
        "outputId": "82256ed5-1e7c-4ce6-d258-5d3f96a8f49f"
      },
      "source": [
        "a[3]"
      ],
      "execution_count": 6,
      "outputs": [
        {
          "output_type": "execute_result",
          "data": {
            "text/plain": [
              "5"
            ]
          },
          "metadata": {
            "tags": []
          },
          "execution_count": 6
        }
      ]
    },
    {
      "cell_type": "code",
      "metadata": {
        "colab": {
          "base_uri": "https://localhost:8080/"
        },
        "id": "yTny0pMgb_ry",
        "outputId": "2e9c9cdf-ec65-474d-b924-07071d670e6a"
      },
      "source": [
        "a[1:3]"
      ],
      "execution_count": 7,
      "outputs": [
        {
          "output_type": "execute_result",
          "data": {
            "text/plain": [
              "[2, 3]"
            ]
          },
          "metadata": {
            "tags": []
          },
          "execution_count": 7
        }
      ]
    },
    {
      "cell_type": "code",
      "metadata": {
        "colab": {
          "base_uri": "https://localhost:8080/"
        },
        "id": "ZaR_96rycBRr",
        "outputId": "95f1c6ad-49ca-4700-e640-fa5cedd04639"
      },
      "source": [
        "a[:3]"
      ],
      "execution_count": 8,
      "outputs": [
        {
          "output_type": "execute_result",
          "data": {
            "text/plain": [
              "[1, 2, 3]"
            ]
          },
          "metadata": {
            "tags": []
          },
          "execution_count": 8
        }
      ]
    },
    {
      "cell_type": "code",
      "metadata": {
        "colab": {
          "base_uri": "https://localhost:8080/"
        },
        "id": "F6Nt8nTFcB1X",
        "outputId": "9928df0d-3fd6-4a04-bb32-8f853d4c14fa"
      },
      "source": [
        "a[4:]"
      ],
      "execution_count": 9,
      "outputs": [
        {
          "output_type": "execute_result",
          "data": {
            "text/plain": [
              "[4, '안녕', True]"
            ]
          },
          "metadata": {
            "tags": []
          },
          "execution_count": 9
        }
      ]
    },
    {
      "cell_type": "code",
      "metadata": {
        "colab": {
          "base_uri": "https://localhost:8080/"
        },
        "id": "nzjgpfWpcCtL",
        "outputId": "e54e5780-cf45-4fa3-d7e6-2bc20d226ff0"
      },
      "source": [
        "a[1:4] #인덱스 1,2,3의 값"
      ],
      "execution_count": 10,
      "outputs": [
        {
          "output_type": "execute_result",
          "data": {
            "text/plain": [
              "[2, 3, 5]"
            ]
          },
          "metadata": {
            "tags": []
          },
          "execution_count": 10
        }
      ]
    },
    {
      "cell_type": "code",
      "metadata": {
        "colab": {
          "base_uri": "https://localhost:8080/"
        },
        "id": "oH4EN-ekcFHT",
        "outputId": "d2d3f8fd-069a-40f2-f6fb-8846ba2678f4"
      },
      "source": [
        "a[1:4:2] #인덱스 1,3의 값"
      ],
      "execution_count": 11,
      "outputs": [
        {
          "output_type": "execute_result",
          "data": {
            "text/plain": [
              "[2, 5]"
            ]
          },
          "metadata": {
            "tags": []
          },
          "execution_count": 11
        }
      ]
    },
    {
      "cell_type": "code",
      "metadata": {
        "id": "eoxqYx8FcQic"
      },
      "source": [
        "# a[9] 존재하지 않는 인덱스를 조회할 경우 IndexError"
      ],
      "execution_count": 12,
      "outputs": []
    },
    {
      "cell_type": "code",
      "metadata": {
        "colab": {
          "base_uri": "https://localhost:8080/"
        },
        "id": "pZElU2QGcW35",
        "outputId": "8cfff0ad-1daa-4a82-850c-844ca60740e7"
      },
      "source": [
        "try:\n",
        "    print(a[9])\n",
        "except IndexError:\n",
        "    print('존재하지 않는 인덱스')\n",
        "\n",
        "#try구문으로 에러에 대한 예외처리 가능"
      ],
      "execution_count": 13,
      "outputs": [
        {
          "output_type": "stream",
          "text": [
            "존재하지 않는 인덱스\n"
          ],
          "name": "stdout"
        }
      ]
    },
    {
      "cell_type": "code",
      "metadata": {
        "colab": {
          "base_uri": "https://localhost:8080/"
        },
        "id": "EgW70px1cf8I",
        "outputId": "06d36c75-6ef5-4c4d-e873-ae33fe64a8a3"
      },
      "source": [
        "a"
      ],
      "execution_count": 14,
      "outputs": [
        {
          "output_type": "execute_result",
          "data": {
            "text/plain": [
              "[1, 2, 3, 5, 4, '안녕', True]"
            ]
          },
          "metadata": {
            "tags": []
          },
          "execution_count": 14
        }
      ]
    },
    {
      "cell_type": "code",
      "metadata": {
        "colab": {
          "base_uri": "https://localhost:8080/"
        },
        "id": "eKtlfzrHcmaq",
        "outputId": "21d9e107-db77-4253-8456-45ce24673b91"
      },
      "source": [
        "del a[1]\n",
        "a"
      ],
      "execution_count": 15,
      "outputs": [
        {
          "output_type": "execute_result",
          "data": {
            "text/plain": [
              "[1, 3, 5, 4, '안녕', True]"
            ]
          },
          "metadata": {
            "tags": []
          },
          "execution_count": 15
        }
      ]
    },
    {
      "cell_type": "code",
      "metadata": {
        "colab": {
          "base_uri": "https://localhost:8080/"
        },
        "id": "H2LHSIrHcpmT",
        "outputId": "6376980f-c183-4c76-a510-e02c4c556cbe"
      },
      "source": [
        "a"
      ],
      "execution_count": 16,
      "outputs": [
        {
          "output_type": "execute_result",
          "data": {
            "text/plain": [
              "[1, 3, 5, 4, '안녕', True]"
            ]
          },
          "metadata": {
            "tags": []
          },
          "execution_count": 16
        }
      ]
    },
    {
      "cell_type": "code",
      "metadata": {
        "colab": {
          "base_uri": "https://localhost:8080/"
        },
        "id": "OdXaTiXscqy7",
        "outputId": "014aa7e9-2c03-41fa-a29a-731ba8fde5af"
      },
      "source": [
        "a.remove(3)\n",
        "a #값에 해당하는 요소 삭제"
      ],
      "execution_count": 17,
      "outputs": [
        {
          "output_type": "execute_result",
          "data": {
            "text/plain": [
              "[1, 5, 4, '안녕', True]"
            ]
          },
          "metadata": {
            "tags": []
          },
          "execution_count": 17
        }
      ]
    },
    {
      "cell_type": "code",
      "metadata": {
        "colab": {
          "base_uri": "https://localhost:8080/"
        },
        "id": "sLT6rP1bcynk",
        "outputId": "2cd06187-3884-42c4-ca22-a22e5e6b1c3e"
      },
      "source": [
        "a"
      ],
      "execution_count": 18,
      "outputs": [
        {
          "output_type": "execute_result",
          "data": {
            "text/plain": [
              "[1, 5, 4, '안녕', True]"
            ]
          },
          "metadata": {
            "tags": []
          },
          "execution_count": 18
        }
      ]
    },
    {
      "cell_type": "code",
      "metadata": {
        "colab": {
          "base_uri": "https://localhost:8080/",
          "height": 35
        },
        "id": "F91wi2E6c0gf",
        "outputId": "435fd044-0b38-4709-f965-74e10779fbdc"
      },
      "source": [
        "a.pop(3)"
      ],
      "execution_count": 19,
      "outputs": [
        {
          "output_type": "execute_result",
          "data": {
            "application/vnd.google.colaboratory.intrinsic+json": {
              "type": "string"
            },
            "text/plain": [
              "'안녕'"
            ]
          },
          "metadata": {
            "tags": []
          },
          "execution_count": 19
        }
      ]
    },
    {
      "cell_type": "code",
      "metadata": {
        "colab": {
          "base_uri": "https://localhost:8080/"
        },
        "id": "R28nSIzyc1ZN",
        "outputId": "94523eeb-6943-4427-fe47-49c6e8dbbc9b"
      },
      "source": [
        "a #삭제될 값을 리턴하고 삭제 진행"
      ],
      "execution_count": 20,
      "outputs": [
        {
          "output_type": "execute_result",
          "data": {
            "text/plain": [
              "[1, 5, 4, True]"
            ]
          },
          "metadata": {
            "tags": []
          },
          "execution_count": 20
        }
      ]
    },
    {
      "cell_type": "markdown",
      "metadata": {
        "id": "dVR0pFEKc_yF"
      },
      "source": [
        "#### 리스트의 특징"
      ]
    },
    {
      "cell_type": "markdown",
      "metadata": {
        "id": "96FPiGOrdpS9"
      },
      "source": [
        "### 딕셔너리"
      ]
    },
    {
      "cell_type": "markdown",
      "metadata": {
        "id": "72Wo0PpMdqNx"
      },
      "source": [
        "#### 딕셔너리의 활용 방법 (p.130)"
      ]
    },
    {
      "cell_type": "code",
      "metadata": {
        "colab": {
          "base_uri": "https://localhost:8080/"
        },
        "id": "_YWwnQkqc3dj",
        "outputId": "8f716ffd-f965-45c1-e072-9eb02310d598"
      },
      "source": [
        "a = {'key1':'value1', 'key2':'value2'}\n",
        "a"
      ],
      "execution_count": 21,
      "outputs": [
        {
          "output_type": "execute_result",
          "data": {
            "text/plain": [
              "{'key1': 'value1', 'key2': 'value2'}"
            ]
          },
          "metadata": {
            "tags": []
          },
          "execution_count": 21
        }
      ]
    },
    {
      "cell_type": "code",
      "metadata": {
        "colab": {
          "base_uri": "https://localhost:8080/"
        },
        "id": "T-YutwNTdvyE",
        "outputId": "1afd2539-58c2-4d50-8ad0-1fd868cbfdba"
      },
      "source": [
        "a['key3'] = 'value3'\n",
        "a"
      ],
      "execution_count": 22,
      "outputs": [
        {
          "output_type": "execute_result",
          "data": {
            "text/plain": [
              "{'key1': 'value1', 'key2': 'value2', 'key3': 'value3'}"
            ]
          },
          "metadata": {
            "tags": []
          },
          "execution_count": 22
        }
      ]
    },
    {
      "cell_type": "code",
      "metadata": {
        "colab": {
          "base_uri": "https://localhost:8080/",
          "height": 35
        },
        "id": "MUhHknaSdx7t",
        "outputId": "2603bc8c-ed99-4167-ec54-80ba75c8e0cd"
      },
      "source": [
        "a['key1']"
      ],
      "execution_count": 23,
      "outputs": [
        {
          "output_type": "execute_result",
          "data": {
            "application/vnd.google.colaboratory.intrinsic+json": {
              "type": "string"
            },
            "text/plain": [
              "'value1'"
            ]
          },
          "metadata": {
            "tags": []
          },
          "execution_count": 23
        }
      ]
    },
    {
      "cell_type": "code",
      "metadata": {
        "id": "UvtEKCMvd1-O"
      },
      "source": [
        "# a['key4'] 존재하지 않는 인덱스를 조회할 경우 KeyError"
      ],
      "execution_count": 24,
      "outputs": []
    },
    {
      "cell_type": "code",
      "metadata": {
        "colab": {
          "base_uri": "https://localhost:8080/"
        },
        "id": "KEZJ2OREd7PT",
        "outputId": "b8228ca5-993d-43b6-bf8d-46581913f2c8"
      },
      "source": [
        "try:\n",
        "    print(a['key4'])\n",
        "except KeyError:\n",
        "    print('존재하지 않는 키')\n",
        "\n",
        "#try구문으로 에러에 대한 예외처리 가능"
      ],
      "execution_count": 25,
      "outputs": [
        {
          "output_type": "stream",
          "text": [
            "존재하지 않는 키\n"
          ],
          "name": "stdout"
        }
      ]
    },
    {
      "cell_type": "code",
      "metadata": {
        "id": "7lID87T7eAHg"
      },
      "source": [
        "# del a['key4']"
      ],
      "execution_count": 26,
      "outputs": []
    },
    {
      "cell_type": "code",
      "metadata": {
        "colab": {
          "base_uri": "https://localhost:8080/"
        },
        "id": "BHUGdz7heBsm",
        "outputId": "1c8e5649-2934-4fc0-c87b-94536dea35a6"
      },
      "source": [
        "'key4' in a"
      ],
      "execution_count": 27,
      "outputs": [
        {
          "output_type": "execute_result",
          "data": {
            "text/plain": [
              "False"
            ]
          },
          "metadata": {
            "tags": []
          },
          "execution_count": 27
        }
      ]
    },
    {
      "cell_type": "code",
      "metadata": {
        "colab": {
          "base_uri": "https://localhost:8080/"
        },
        "id": "0p37gi6SeDv0",
        "outputId": "256a8778-6e70-48a6-e5c4-575787263236"
      },
      "source": [
        "if 'key4' in a:\n",
        "    print('존재하는 키')\n",
        "else:\n",
        "    print('존재하지 않는 키')\n",
        "\n",
        "#키가 존재하는지 확인 후 작업 진행 가능"
      ],
      "execution_count": 28,
      "outputs": [
        {
          "output_type": "stream",
          "text": [
            "존재하지 않는 키\n"
          ],
          "name": "stdout"
        }
      ]
    },
    {
      "cell_type": "code",
      "metadata": {
        "colab": {
          "base_uri": "https://localhost:8080/"
        },
        "id": "SlSLHdrGeHuc",
        "outputId": "8ebc89a6-ebba-4cff-c08c-19807fc61b6e"
      },
      "source": [
        "for k, v in a.items():\n",
        "    print(k, v)\n",
        "\n",
        "#for반복문 사용으로도 키/값 조회 가능"
      ],
      "execution_count": 29,
      "outputs": [
        {
          "output_type": "stream",
          "text": [
            "key1 value1\n",
            "key2 value2\n",
            "key3 value3\n"
          ],
          "name": "stdout"
        }
      ]
    },
    {
      "cell_type": "code",
      "metadata": {
        "colab": {
          "base_uri": "https://localhost:8080/"
        },
        "id": "BsU1-Tk5ePvM",
        "outputId": "1afd5e22-89d8-403e-ad5e-ce6bfd5e6085"
      },
      "source": [
        "del a['key1']\n",
        "a"
      ],
      "execution_count": 30,
      "outputs": [
        {
          "output_type": "execute_result",
          "data": {
            "text/plain": [
              "{'key2': 'value2', 'key3': 'value3'}"
            ]
          },
          "metadata": {
            "tags": []
          },
          "execution_count": 30
        }
      ]
    },
    {
      "cell_type": "markdown",
      "metadata": {
        "id": "foM281K6eTaf"
      },
      "source": [
        "#### 딕셔너리 모듈(p.132~134)"
      ]
    },
    {
      "cell_type": "code",
      "metadata": {
        "colab": {
          "base_uri": "https://localhost:8080/"
        },
        "id": "_JHlI-YWeSJz",
        "outputId": "ae21df8d-a29a-4a2f-9582-77bb78995721"
      },
      "source": [
        "import collections\n",
        "a = collections.defaultdict(int)\n",
        "a['A'] = 5\n",
        "a['B'] = 4\n",
        "a"
      ],
      "execution_count": 31,
      "outputs": [
        {
          "output_type": "execute_result",
          "data": {
            "text/plain": [
              "defaultdict(int, {'A': 5, 'B': 4})"
            ]
          },
          "metadata": {
            "tags": []
          },
          "execution_count": 31
        }
      ]
    },
    {
      "cell_type": "code",
      "metadata": {
        "colab": {
          "base_uri": "https://localhost:8080/"
        },
        "id": "hrnwqrKvec6J",
        "outputId": "08bbb739-9317-42dd-b60c-2ba925e1aeb2"
      },
      "source": [
        "a['C'] += 1\n",
        "a"
      ],
      "execution_count": 32,
      "outputs": [
        {
          "output_type": "execute_result",
          "data": {
            "text/plain": [
              "defaultdict(int, {'A': 5, 'B': 4, 'C': 1})"
            ]
          },
          "metadata": {
            "tags": []
          },
          "execution_count": 32
        }
      ]
    },
    {
      "cell_type": "code",
      "metadata": {
        "colab": {
          "base_uri": "https://localhost:8080/"
        },
        "id": "hhKFw-qQef83",
        "outputId": "6e642e85-a7b4-4f92-ad70-78ab9536779a"
      },
      "source": [
        "a = [1,2,3,4,5,5,5,6,6]\n",
        "b = collections.Counter(a)\n",
        "b "
      ],
      "execution_count": 33,
      "outputs": [
        {
          "output_type": "execute_result",
          "data": {
            "text/plain": [
              "Counter({1: 1, 2: 1, 3: 1, 4: 1, 5: 3, 6: 2})"
            ]
          },
          "metadata": {
            "tags": []
          },
          "execution_count": 33
        }
      ]
    },
    {
      "cell_type": "code",
      "metadata": {
        "colab": {
          "base_uri": "https://localhost:8080/"
        },
        "id": "5igqCJ47ejEA",
        "outputId": "cbb1e110-dfa7-4e80-bc1a-d0d788f6f11d"
      },
      "source": [
        "type(b)"
      ],
      "execution_count": 34,
      "outputs": [
        {
          "output_type": "execute_result",
          "data": {
            "text/plain": [
              "collections.Counter"
            ]
          },
          "metadata": {
            "tags": []
          },
          "execution_count": 34
        }
      ]
    },
    {
      "cell_type": "code",
      "metadata": {
        "colab": {
          "base_uri": "https://localhost:8080/"
        },
        "id": "8wjZzdDUekY_",
        "outputId": "8c386e4a-7d63-42d2-b810-b4c776726c2c"
      },
      "source": [
        "b.most_common(2)"
      ],
      "execution_count": 35,
      "outputs": [
        {
          "output_type": "execute_result",
          "data": {
            "text/plain": [
              "[(5, 3), (6, 2)]"
            ]
          },
          "metadata": {
            "tags": []
          },
          "execution_count": 35
        }
      ]
    },
    {
      "cell_type": "code",
      "metadata": {
        "colab": {
          "base_uri": "https://localhost:8080/"
        },
        "id": "niat4zT6emPv",
        "outputId": "0836a042-1950-47fd-8c62-cdac6779c49b"
      },
      "source": [
        "collections.OrderedDict({'banana':3, 'apple':4, 'pear':1, 'orange':2}) "
      ],
      "execution_count": 36,
      "outputs": [
        {
          "output_type": "execute_result",
          "data": {
            "text/plain": [
              "OrderedDict([('banana', 3), ('apple', 4), ('pear', 1), ('orange', 2)])"
            ]
          },
          "metadata": {
            "tags": []
          },
          "execution_count": 36
        }
      ]
    },
    {
      "cell_type": "markdown",
      "metadata": {
        "id": "5GiS6kkue3S0"
      },
      "source": [
        "## 6장"
      ]
    },
    {
      "cell_type": "markdown",
      "metadata": {
        "id": "VeifhHkPe5au"
      },
      "source": [
        "### 1. 유효한 팰린드롬"
      ]
    },
    {
      "cell_type": "markdown",
      "metadata": {
        "id": "XSef_-nOfaTX"
      },
      "source": [
        "#### 1) 리스트로 변환 (p.139)"
      ]
    },
    {
      "cell_type": "code",
      "metadata": {
        "id": "1a9LfB77e4im"
      },
      "source": [
        "def isPalindrome(s:str):\n",
        "  strs=[]\n",
        "  for char in s:\n",
        "    if char.isalnum():\n",
        "      strs.append(char.lower())\n",
        "\n",
        "  while len(strs) > 1:\n",
        "    if strs.pop(0) != strs.pop():\n",
        "      return False\n",
        "\n",
        "  return True"
      ],
      "execution_count": 37,
      "outputs": []
    },
    {
      "cell_type": "code",
      "metadata": {
        "colab": {
          "base_uri": "https://localhost:8080/"
        },
        "id": "v837VSVdfnE2",
        "outputId": "890d98c8-f60a-45e2-9a74-39023e785f80"
      },
      "source": [
        "isPalindrome(\"A man\")"
      ],
      "execution_count": 38,
      "outputs": [
        {
          "output_type": "execute_result",
          "data": {
            "text/plain": [
              "False"
            ]
          },
          "metadata": {
            "tags": []
          },
          "execution_count": 38
        }
      ]
    },
    {
      "cell_type": "markdown",
      "metadata": {
        "id": "dWHJPfsTko-C"
      },
      "source": [
        "#### 2) 데크 자료형을 이용한 최적화 (p.140)"
      ]
    },
    {
      "cell_type": "code",
      "metadata": {
        "id": "o9osSZQYkOvf"
      },
      "source": [
        "def isPalindrome(s: str):\n",
        "\n",
        "    strs: Deque = collections.deque()\n",
        "    \n",
        "    for char in s:\n",
        "    \tif char.isalnum():\n",
        "        \tstrs.append(char.lower())\n",
        "            \n",
        "\n",
        "    while len(strs) > 1:\n",
        "    \tif strs.popleft() != strs.pop():\n",
        "        \treturn False\n",
        "   \n",
        "    return True"
      ],
      "execution_count": 39,
      "outputs": []
    },
    {
      "cell_type": "code",
      "metadata": {
        "colab": {
          "base_uri": "https://localhost:8080/"
        },
        "id": "Ge_pFewXfsO-",
        "outputId": "7a86821a-a61d-4406-99d0-817654aef05b"
      },
      "source": [
        "isPalindrome(\"race a car\")"
      ],
      "execution_count": 40,
      "outputs": [
        {
          "output_type": "execute_result",
          "data": {
            "text/plain": [
              "False"
            ]
          },
          "metadata": {
            "tags": []
          },
          "execution_count": 40
        }
      ]
    },
    {
      "cell_type": "markdown",
      "metadata": {
        "id": "j_Hfk_j9ktqh"
      },
      "source": [
        "#### 3) 슬라이싱 사용 (p.141)"
      ]
    },
    {
      "cell_type": "code",
      "metadata": {
        "id": "s2LxQyJUkcM3"
      },
      "source": [
        "import re\n",
        "def isPalindrome(s: str):\n",
        "\ts = s.lower()\n",
        "\ts = re.sub('[^a-z0-0]', '', s) \n",
        " \n",
        "\treturn s == s[::-1]"
      ],
      "execution_count": 41,
      "outputs": []
    },
    {
      "cell_type": "code",
      "metadata": {
        "colab": {
          "base_uri": "https://localhost:8080/"
        },
        "id": "RZWXqVVFq3NA",
        "outputId": "f74aafee-b84f-45e1-dd9d-50e6e1ba3c97"
      },
      "source": [
        "isPalindrome(\"A man\")"
      ],
      "execution_count": 42,
      "outputs": [
        {
          "output_type": "execute_result",
          "data": {
            "text/plain": [
              "False"
            ]
          },
          "metadata": {
            "tags": []
          },
          "execution_count": 42
        }
      ]
    },
    {
      "cell_type": "markdown",
      "metadata": {
        "id": "8iZMxd1gkxpV"
      },
      "source": [
        "### 2. 문자열 뒤집기"
      ]
    },
    {
      "cell_type": "markdown",
      "metadata": {
        "id": "sAvws7-vk07e"
      },
      "source": [
        "#### 1) 투 포인터를 이용한 스왑(p.146)"
      ]
    },
    {
      "cell_type": "code",
      "metadata": {
        "id": "WKjwuAwhf_2F"
      },
      "source": [
        "def ReverseString(s):\n",
        "  left,right=0,len(s)-1\n",
        "  while left < right:\n",
        "    s[left], s[right] = s[right], s[left]\n",
        "    s\n",
        "    left += 1\n",
        "    right -= 1\n",
        "  print(s)"
      ],
      "execution_count": 43,
      "outputs": []
    },
    {
      "cell_type": "code",
      "metadata": {
        "colab": {
          "base_uri": "https://localhost:8080/"
        },
        "id": "FOSG-h9TgFxY",
        "outputId": "2324d7c0-1749-4f05-aad5-cf94f5d6d087"
      },
      "source": [
        "ReverseString(s=[\"h\",\"e\",\"l\",\"l\",\"o\"])"
      ],
      "execution_count": 44,
      "outputs": [
        {
          "output_type": "stream",
          "text": [
            "['o', 'l', 'l', 'e', 'h']\n"
          ],
          "name": "stdout"
        }
      ]
    },
    {
      "cell_type": "markdown",
      "metadata": {
        "id": "1JGXOEE6lI2R"
      },
      "source": [
        "#### 2) 파이썬다운 방식(p.146)"
      ]
    },
    {
      "cell_type": "code",
      "metadata": {
        "id": "jlGW47uElL_O"
      },
      "source": [
        "def reverseString(s:[str]):\n",
        "    s.reverse()"
      ],
      "execution_count": 45,
      "outputs": []
    },
    {
      "cell_type": "code",
      "metadata": {
        "colab": {
          "base_uri": "https://localhost:8080/"
        },
        "id": "OQTz-VEfgKt_",
        "outputId": "73192766-7418-4aa3-c22f-52866bfda193"
      },
      "source": [
        "ReverseString(s=[\"H\",\"a\",\"n\",\"n\",\"a\",\"h\"])"
      ],
      "execution_count": 46,
      "outputs": [
        {
          "output_type": "stream",
          "text": [
            "['h', 'a', 'n', 'n', 'a', 'H']\n"
          ],
          "name": "stdout"
        }
      ]
    },
    {
      "cell_type": "markdown",
      "metadata": {
        "id": "eQ-HYwBhlY_N"
      },
      "source": [
        "### 3. 로그파일 재정렬"
      ]
    },
    {
      "cell_type": "markdown",
      "metadata": {
        "id": "XmNPEBIOlcGP"
      },
      "source": [
        "#### 1) 람다와 +연산자를 이용"
      ]
    },
    {
      "cell_type": "code",
      "metadata": {
        "id": "uCQyMWLlgRIH"
      },
      "source": [
        "def reorderLogFiles(logs):\n",
        "  letters, digits = [], []\n",
        "  for log in logs:\n",
        "    if log.split()[1].isdigit():\n",
        "      digits.append(log)\n",
        "    else:\n",
        "      letters.append(log)\n",
        "\n",
        "  letters.sort(key=lambda x: (x.split()[1:], x.split()[0]))\n",
        "  return letters + digits"
      ],
      "execution_count": 47,
      "outputs": []
    },
    {
      "cell_type": "code",
      "metadata": {
        "colab": {
          "base_uri": "https://localhost:8080/"
        },
        "id": "5qnUfovagRt5",
        "outputId": "a7ac7356-017e-46c2-99b0-c63972268c10"
      },
      "source": [
        "logs=[\"dig1 8 1 5 1\",\"let1 art can\",\"dig2 3 6\",\"le2 own kit dig\",\"let3 art zero\"]\n",
        "reorderLogFiles(logs)"
      ],
      "execution_count": 48,
      "outputs": [
        {
          "output_type": "execute_result",
          "data": {
            "text/plain": [
              "['let1 art can',\n",
              " 'let3 art zero',\n",
              " 'le2 own kit dig',\n",
              " 'dig1 8 1 5 1',\n",
              " 'dig2 3 6']"
            ]
          },
          "metadata": {
            "tags": []
          },
          "execution_count": 48
        }
      ]
    },
    {
      "cell_type": "markdown",
      "metadata": {
        "id": "uibzrXRUldFU"
      },
      "source": [
        "### 4.가장 흔한 단어"
      ]
    },
    {
      "cell_type": "markdown",
      "metadata": {
        "id": "54rlQoHbldKc"
      },
      "source": [
        "#### 1) 리스트 컴프리헨션, counter 객체 사용(p.152)\n"
      ]
    },
    {
      "cell_type": "code",
      "metadata": {
        "id": "jxfOqjnugVy4"
      },
      "source": [
        "import re\n",
        "import collections\n",
        "def MostCommonWord(paragraph:str, banned:[str]):\n",
        "    words = [word for word in re.sub(r'[^\\w]',' ', paragraph)\n",
        "        .lower().split()\n",
        "            if word not in banned]\n",
        "\n",
        "    counts = collections.defaultdict(int)\n",
        "    for word in words:\n",
        "      counts[word] += 1\n",
        "    counts = collections.Counter(words)\n",
        "    return counts.most_common(1)"
      ],
      "execution_count": 49,
      "outputs": []
    },
    {
      "cell_type": "code",
      "metadata": {
        "colab": {
          "base_uri": "https://localhost:8080/"
        },
        "id": "-IStwubcgWNT",
        "outputId": "c5c2fb63-13bc-4b99-ef9b-bed0b19bdd70"
      },
      "source": [
        "paragraph=\"Bob hit a ball, the hit BALL flew far after it was hit.\"\n",
        "banned=[\"hit\"]\n",
        "MostCommonWord(paragraph,banned)"
      ],
      "execution_count": 50,
      "outputs": [
        {
          "output_type": "execute_result",
          "data": {
            "text/plain": [
              "[('ball', 2)]"
            ]
          },
          "metadata": {
            "tags": []
          },
          "execution_count": 50
        }
      ]
    },
    {
      "cell_type": "markdown",
      "metadata": {
        "id": "YwjJNJ5sl6Xt"
      },
      "source": [
        "### 5. 그룹 애너그램"
      ]
    },
    {
      "cell_type": "markdown",
      "metadata": {
        "id": "nBlLOnfUl80V"
      },
      "source": [
        "#### 1) 정렬하여 딕셔너리에 추가(p.154)"
      ]
    },
    {
      "cell_type": "code",
      "metadata": {
        "id": "7w_3osfzga6h"
      },
      "source": [
        "import collections\n",
        "def groupAnagrams(strs:[str]):\n",
        "  anagrams = collections.defaultdict(list)\n",
        "\n",
        "  for word in strs:\n",
        "    anagrams[''.join(sorted(word))].append(word)\n",
        "  return anagrams.values()"
      ],
      "execution_count": 51,
      "outputs": []
    },
    {
      "cell_type": "code",
      "metadata": {
        "colab": {
          "base_uri": "https://localhost:8080/"
        },
        "id": "w2gZ6hRigbck",
        "outputId": "252eb3e3-f151-4236-f5b4-f06601c6829c"
      },
      "source": [
        "groupAnagrams([\"eat\",\"tea\",\"tan\",\"ate\",\"nat\",\"bat\"])"
      ],
      "execution_count": 52,
      "outputs": [
        {
          "output_type": "execute_result",
          "data": {
            "text/plain": [
              "dict_values([['eat', 'tea', 'ate'], ['tan', 'nat'], ['bat']])"
            ]
          },
          "metadata": {
            "tags": []
          },
          "execution_count": 52
        }
      ]
    },
    {
      "cell_type": "markdown",
      "metadata": {
        "id": "uhQNikNal82V"
      },
      "source": [
        "### 6. 가장 긴 팰린드롬 문자열"
      ]
    },
    {
      "cell_type": "markdown",
      "metadata": {
        "id": "B0NwluZvmKBk"
      },
      "source": [
        "#### 1) 중앙을 중심으로 확장하는 풀이(p.160~162)"
      ]
    },
    {
      "cell_type": "code",
      "metadata": {
        "id": "l1Bbr5gSgd2R"
      },
      "source": [
        "def longestPalindrome(s: str):\n",
        "   def expand(left: int, right: int):\n",
        "       while left >= 0 and right <= len(s) and s[left] == s[right - 1]:\n",
        "           left -= 1\n",
        "           right += 1\n",
        "       return s[left + 1:right - 1]\n",
        "   \n",
        "   if len(s) < 2 or s == s[::1]:\n",
        "       return s \n",
        "    \n",
        "   result = ''\n",
        "    \n",
        "   for i in range(len(s) - 1):\n",
        "        result = max(result, \n",
        "                     expand(i, i+1),\n",
        "                     expand(i, i+2),\n",
        "                     key=len)\n",
        "        \n",
        "   return result"
      ],
      "execution_count": 53,
      "outputs": []
    },
    {
      "cell_type": "code",
      "metadata": {
        "colab": {
          "base_uri": "https://localhost:8080/",
          "height": 35
        },
        "id": "454YXIlLgfsZ",
        "outputId": "ffda12d6-998d-4036-c82c-5a7675a537a6"
      },
      "source": [
        "longestPalindrome(s=\"babad\")"
      ],
      "execution_count": 54,
      "outputs": [
        {
          "output_type": "execute_result",
          "data": {
            "application/vnd.google.colaboratory.intrinsic+json": {
              "type": "string"
            },
            "text/plain": [
              "'babad'"
            ]
          },
          "metadata": {
            "tags": []
          },
          "execution_count": 54
        }
      ]
    },
    {
      "cell_type": "markdown",
      "metadata": {
        "id": "quYVzpPNmYEP"
      },
      "source": [
        "## 7장"
      ]
    },
    {
      "cell_type": "markdown",
      "metadata": {
        "id": "mPFmAuF3mKDy"
      },
      "source": [
        "### 7. 두 수의 합"
      ]
    },
    {
      "cell_type": "markdown",
      "metadata": {
        "id": "_7vfttyomanU"
      },
      "source": [
        "#### 1) 브루트 포스로 계산(p.174)"
      ]
    },
    {
      "cell_type": "code",
      "metadata": {
        "id": "1C0hbVRJghMJ"
      },
      "source": [
        "def twoSum(nums:[int],target:int):\n",
        "  for i in range(len(nums)):\n",
        "    for j in range(i+1,len(nums)):\n",
        "      if nums[i]+nums[j]==target:\n",
        "        return [i,j]"
      ],
      "execution_count": 55,
      "outputs": []
    },
    {
      "cell_type": "code",
      "metadata": {
        "colab": {
          "base_uri": "https://localhost:8080/"
        },
        "id": "frXBKUwBgjKV",
        "outputId": "392947a3-d8e6-4fc0-f5e4-23c00683ea1b"
      },
      "source": [
        "twoSum(nums=[2,7,11,15], target=9)"
      ],
      "execution_count": 56,
      "outputs": [
        {
          "output_type": "execute_result",
          "data": {
            "text/plain": [
              "[0, 1]"
            ]
          },
          "metadata": {
            "tags": []
          },
          "execution_count": 56
        }
      ]
    },
    {
      "cell_type": "markdown",
      "metadata": {
        "id": "RxEM2yekmapm"
      },
      "source": [
        "#### 2) in을 이용한 탐색(p.174)"
      ]
    },
    {
      "cell_type": "code",
      "metadata": {
        "id": "0FfInMpOmjit"
      },
      "source": [
        "def twoSum(nums:[int], target:int):\n",
        "    for i, n in enumerate(nums):\n",
        "        complement = target - n\n",
        "\n",
        "        if complement in nums[i + 1:]:\n",
        "            return nums.index(n), nums[i+1:].index(complement) + (i+1) "
      ],
      "execution_count": 57,
      "outputs": []
    },
    {
      "cell_type": "code",
      "metadata": {
        "colab": {
          "base_uri": "https://localhost:8080/"
        },
        "id": "VZn-592Bmkem",
        "outputId": "bd59267d-b591-4710-a0b9-c20c23be8ff0"
      },
      "source": [
        "twoSum(nums=[2,7,11,15], target=9)"
      ],
      "execution_count": 58,
      "outputs": [
        {
          "output_type": "execute_result",
          "data": {
            "text/plain": [
              "(0, 1)"
            ]
          },
          "metadata": {
            "tags": []
          },
          "execution_count": 58
        }
      ]
    },
    {
      "cell_type": "markdown",
      "metadata": {
        "id": "0DrmsBxbmksW"
      },
      "source": [
        "#### 3) 첫 번째 수를 뺀 결과 키 조회(p.175)"
      ]
    },
    {
      "cell_type": "code",
      "metadata": {
        "id": "1_Z1voFZnF3R"
      },
      "source": [
        "def twoSum(nums:[int], target: int):\n",
        "  nums_map = {}\n",
        "  for i, num in enumerate(nums):\n",
        "    nums_map[num] = i\n",
        "    \n",
        "  for i, num in enumerate(nums):\n",
        "    if target - num in nums_map and i != nums_map[target - num]:\n",
        "      return nums.index(num), nums_map[target - num]"
      ],
      "execution_count": 59,
      "outputs": []
    },
    {
      "cell_type": "code",
      "metadata": {
        "colab": {
          "base_uri": "https://localhost:8080/"
        },
        "id": "Nn757m97nF7_",
        "outputId": "c22ad543-d28c-4985-d5e7-cdaa315f4286"
      },
      "source": [
        "twoSum(nums=[2,7,11,15], target=9)"
      ],
      "execution_count": 60,
      "outputs": [
        {
          "output_type": "execute_result",
          "data": {
            "text/plain": [
              "(0, 1)"
            ]
          },
          "metadata": {
            "tags": []
          },
          "execution_count": 60
        }
      ]
    },
    {
      "cell_type": "markdown",
      "metadata": {
        "id": "3kr1aF0Hnb6-"
      },
      "source": [
        "#### 4) 조회 구조 개선(p.176)"
      ]
    },
    {
      "cell_type": "code",
      "metadata": {
        "id": "zOU0B1BjnbFN"
      },
      "source": [
        "def twoSum(nums:[int], target: int):\n",
        "    nums_map = {}\n",
        "\n",
        "    for i, num in enumerate(nums):\n",
        "        if target - num in nums_map:\n",
        "            return [nums_map[target - num], i]\n",
        "        nums_map[num] = i"
      ],
      "execution_count": 61,
      "outputs": []
    },
    {
      "cell_type": "code",
      "metadata": {
        "colab": {
          "base_uri": "https://localhost:8080/"
        },
        "id": "dnnuDuGJnbHG",
        "outputId": "754b67be-8936-4dd2-a515-324af2de0464"
      },
      "source": [
        "twoSum(nums=[2,7,11,15], target=9)"
      ],
      "execution_count": 62,
      "outputs": [
        {
          "output_type": "execute_result",
          "data": {
            "text/plain": [
              "[0, 1]"
            ]
          },
          "metadata": {
            "tags": []
          },
          "execution_count": 62
        }
      ]
    },
    {
      "cell_type": "markdown",
      "metadata": {
        "id": "rxzoPxsZoBb8"
      },
      "source": [
        "#### 5) 투 포인터 이용(p.177)"
      ]
    },
    {
      "cell_type": "code",
      "metadata": {
        "id": "XvkUFVEvnbIv"
      },
      "source": [
        "def twoSum(nums:[int], target: int):\n",
        "    left, right= 0, len(nums) - 1\n",
        "    while not left == right:\n",
        "        if nums[left] + nums[right] < target:\n",
        "            left += 1\n",
        "\n",
        "        elif nums[left] + nums[right] > target:\n",
        "            right -= 1\n",
        "        \n",
        "        else:\n",
        "            return left, right"
      ],
      "execution_count": 63,
      "outputs": []
    },
    {
      "cell_type": "code",
      "metadata": {
        "colab": {
          "base_uri": "https://localhost:8080/"
        },
        "id": "cebHefcAoKvw",
        "outputId": "76f41363-78a7-413b-b02a-87b41168332d"
      },
      "source": [
        "twoSum(nums=[2,7,11,15], target=9)"
      ],
      "execution_count": 64,
      "outputs": [
        {
          "output_type": "execute_result",
          "data": {
            "text/plain": [
              "(0, 1)"
            ]
          },
          "metadata": {
            "tags": []
          },
          "execution_count": 64
        }
      ]
    },
    {
      "cell_type": "markdown",
      "metadata": {
        "id": "PX41wzGhnWBG"
      },
      "source": [
        "### 8. 빗물 트래핑"
      ]
    },
    {
      "cell_type": "markdown",
      "metadata": {
        "id": "4zBNwOffnX_n"
      },
      "source": [
        "#### 1) 투 포인터를 최대로 이동(p.181)"
      ]
    },
    {
      "cell_type": "code",
      "metadata": {
        "id": "RKFcHocognIW"
      },
      "source": [
        "def trap(height:[int]):\n",
        "  if not height:\n",
        "    return 0\n",
        "\n",
        "  volume = 0\n",
        "  left, right = 0, len(height) - 1\n",
        "  left_max , right_max = height[left],height[right]\n",
        "\n",
        "  while left< right:\n",
        "    left_max, right_max = max(height[left],left_max), max(height[right],right_max)\n",
        "\n",
        "    if left_max <= right_max:\n",
        "       volume += left_max - height[left]\n",
        "       left += 1\n",
        "    else:\n",
        "      volume += right_max - height[right]\n",
        "      right -= 1\n",
        "  return volume"
      ],
      "execution_count": 65,
      "outputs": []
    },
    {
      "cell_type": "code",
      "metadata": {
        "colab": {
          "base_uri": "https://localhost:8080/"
        },
        "id": "qer2TiakgpSE",
        "outputId": "eb1829c7-12b3-4db5-b748-d09ecb9ba14e"
      },
      "source": [
        "trap([0,1,0,2,1,0,1,3,2,1,2,1])"
      ],
      "execution_count": 66,
      "outputs": [
        {
          "output_type": "execute_result",
          "data": {
            "text/plain": [
              "6"
            ]
          },
          "metadata": {
            "tags": []
          },
          "execution_count": 66
        }
      ]
    },
    {
      "cell_type": "markdown",
      "metadata": {
        "id": "lY9IKiY_oYVZ"
      },
      "source": [
        "#### 2) 스택 쌓기(p.182)"
      ]
    },
    {
      "cell_type": "code",
      "metadata": {
        "id": "eozxcq9Nocl0"
      },
      "source": [
        "def trap(height:[int]):\n",
        "    stack = []\n",
        "    volume = 0\n",
        "    \n",
        "    for i in range(len(height)):\n",
        "        while stack and height[i] > height[stack[-1]]:\n",
        "            top = stack.pop()\n",
        "            if not len(stack):\n",
        "                break\n",
        "                \n",
        "            distance = i - stack[-1] - 1\n",
        "            water = min(height[i], height[stack[-1]]) - height[top]\n",
        "            \n",
        "            volume += distance * water\n",
        "        stack.append(i)\n",
        "        \n",
        "    return volume"
      ],
      "execution_count": 67,
      "outputs": []
    },
    {
      "cell_type": "code",
      "metadata": {
        "colab": {
          "base_uri": "https://localhost:8080/"
        },
        "id": "lw_ZdbYvolL2",
        "outputId": "7847565c-55f8-4b5a-e9e6-d559825d2b69"
      },
      "source": [
        "trap([0,1,0,2,1,0,1,3,2,1,2,1])"
      ],
      "execution_count": 68,
      "outputs": [
        {
          "output_type": "execute_result",
          "data": {
            "text/plain": [
              "6"
            ]
          },
          "metadata": {
            "tags": []
          },
          "execution_count": 68
        }
      ]
    },
    {
      "cell_type": "markdown",
      "metadata": {
        "id": "6p4nBhitoYYE"
      },
      "source": [
        "### 9. 세 수의 합"
      ]
    },
    {
      "cell_type": "markdown",
      "metadata": {
        "id": "cYyKgCU6opPu"
      },
      "source": [
        "#### 1) 브루트 포스로 계산(p.185)"
      ]
    },
    {
      "cell_type": "code",
      "metadata": {
        "id": "q2zLsdGViIcS"
      },
      "source": [
        "def threeSum(nums:[int]):\n",
        "    results = []\n",
        "    nums.sort()\n",
        "    \n",
        "    \n",
        "    for i in range(len(nums) - 2):\n",
        "        if i > 0 and nums[i] == nums[i - 1]:\n",
        "            continue\n",
        "\n",
        "        for j in range(i + 1, len(nums) - 1):\n",
        "            if j > i + 1 and nums[j] == nums[j - 1]:\n",
        "                continue\n",
        "\n",
        "            for k in range(i + 2, len(nums)):\n",
        "                if k > j + 1 and nums[k] == nums[k - 1]:\n",
        "                    continue\n",
        "                    \n",
        "                if nums[i] + nums[j] + nums[k] == 0:\n",
        "                    results.append((nums[i], nums[j], nums[k]))\n",
        "                    \n",
        "    return results"
      ],
      "execution_count": 69,
      "outputs": []
    },
    {
      "cell_type": "code",
      "metadata": {
        "colab": {
          "base_uri": "https://localhost:8080/"
        },
        "id": "mA4AeqNuieTS",
        "outputId": "1756aa7c-c65b-4fee-a741-9a366582c83e"
      },
      "source": [
        "threeSum(nums=[-1,0,1,2,-1,-4])"
      ],
      "execution_count": 70,
      "outputs": [
        {
          "output_type": "execute_result",
          "data": {
            "text/plain": [
              "[(-1, -1, 2), (-1, 0, 1), (-1, 1, 0)]"
            ]
          },
          "metadata": {
            "tags": []
          },
          "execution_count": 70
        }
      ]
    },
    {
      "cell_type": "markdown",
      "metadata": {
        "id": "68Re5llropR5"
      },
      "source": [
        "#### 2) 투 포인터로 합 계산(p.187~188)"
      ]
    },
    {
      "cell_type": "code",
      "metadata": {
        "id": "CVOf5CoYopcw"
      },
      "source": [
        "def threeSum(nums:[int]):\n",
        "    results = []\n",
        "    nums.sort()\n",
        "    \n",
        "    for i in range(len(nums) - 2):\n",
        "        if i > 0 and nums[i] == nums[i - 1]:\n",
        "            continue\n",
        "        \n",
        "        left, right = i + 1, len(nums) - 1\n",
        "        \n",
        "        while left < right:\n",
        "            sum = nums[i] + nums[left] + nums[right]\n",
        "            \n",
        "            if sum < 0:\n",
        "                left += 1\n",
        "            elif sum > 0: \n",
        "                right -= 1\n",
        "            else: \n",
        "                results.append((nums[i], nums[left], nums[right]))\n",
        "                \n",
        "                while left < right and nums[left] == nums[left + 1]:\n",
        "                    left += 1\n",
        "                while left < right and nums[right] == nums[right - 1]:\n",
        "                    right -= 1\n",
        "                \n",
        "                left += 1\n",
        "                right -= 1\n",
        "\n",
        "    return results"
      ],
      "execution_count": 71,
      "outputs": []
    },
    {
      "cell_type": "code",
      "metadata": {
        "colab": {
          "base_uri": "https://localhost:8080/"
        },
        "id": "W76vze_Topez",
        "outputId": "fe861925-15a5-468c-d7bb-f5f7c70e898c"
      },
      "source": [
        "threeSum(nums=[-1,0,1,2,-1,-4])"
      ],
      "execution_count": 72,
      "outputs": [
        {
          "output_type": "execute_result",
          "data": {
            "text/plain": [
              "[(-1, -1, 2), (-1, 0, 1)]"
            ]
          },
          "metadata": {
            "tags": []
          },
          "execution_count": 72
        }
      ]
    },
    {
      "cell_type": "markdown",
      "metadata": {
        "id": "I1a9brI5opUo"
      },
      "source": [
        "### 10. 배열 파티션 I"
      ]
    },
    {
      "cell_type": "markdown",
      "metadata": {
        "id": "C7zVneDBpljs"
      },
      "source": [
        "#### 1) 오름차순 풀이(p.191)"
      ]
    },
    {
      "cell_type": "code",
      "metadata": {
        "id": "CJHA0fgQjBEP"
      },
      "source": [
        "def arrayPairSum(nums:[int]):\n",
        "    sum = 0\n",
        "    pair = []\n",
        "    nums.sort()\n",
        "\n",
        "    for n in nums:\n",
        "        pair.append(n)\n",
        "        if len(pair) == 2:\n",
        "            sum += min(pair)\n",
        "            pair = []\n",
        "\n",
        "    return sum"
      ],
      "execution_count": 73,
      "outputs": []
    },
    {
      "cell_type": "code",
      "metadata": {
        "colab": {
          "base_uri": "https://localhost:8080/"
        },
        "id": "6kS3WfVrjElG",
        "outputId": "69ec3fd8-657a-460e-b525-cda1b4b3b30e"
      },
      "source": [
        "arrayPairSum([1,4,3,2])"
      ],
      "execution_count": 74,
      "outputs": [
        {
          "output_type": "execute_result",
          "data": {
            "text/plain": [
              "4"
            ]
          },
          "metadata": {
            "tags": []
          },
          "execution_count": 74
        }
      ]
    },
    {
      "cell_type": "markdown",
      "metadata": {
        "id": "A2PFaEvUprmK"
      },
      "source": [
        "#### 2) 짝수 번째 값 계산(p.192)"
      ]
    },
    {
      "cell_type": "code",
      "metadata": {
        "id": "wi5bJoBJitCv"
      },
      "source": [
        "def arrayPairSum(nums:[int]):\n",
        "    sum = 0\n",
        "    nums.sort()\n",
        "\n",
        "    for i, n in enumerate(nums):\n",
        "        if i%2 == 0:\n",
        "            sum += n\n",
        "\n",
        "    return sum"
      ],
      "execution_count": 75,
      "outputs": []
    },
    {
      "cell_type": "code",
      "metadata": {
        "colab": {
          "base_uri": "https://localhost:8080/"
        },
        "id": "KQa3oetQopgh",
        "outputId": "5ce819a4-2021-4b64-8dfb-36a083a6c264"
      },
      "source": [
        "arrayPairSum([1,4,3,2])"
      ],
      "execution_count": 76,
      "outputs": [
        {
          "output_type": "execute_result",
          "data": {
            "text/plain": [
              "4"
            ]
          },
          "metadata": {
            "tags": []
          },
          "execution_count": 76
        }
      ]
    },
    {
      "cell_type": "markdown",
      "metadata": {
        "id": "5nf5DAEeqAZW"
      },
      "source": [
        "#### 3) 파이썬다운 방식(p.192)"
      ]
    },
    {
      "cell_type": "code",
      "metadata": {
        "id": "5KWbIdc_qAjh"
      },
      "source": [
        "def arrayPairSum(nums:[int]):\n",
        "    return sum(sorted(nums)[::2])"
      ],
      "execution_count": 77,
      "outputs": []
    },
    {
      "cell_type": "code",
      "metadata": {
        "colab": {
          "base_uri": "https://localhost:8080/"
        },
        "id": "WsfldqwAqAlV",
        "outputId": "27af0966-3160-4726-93ea-8e61d219c56f"
      },
      "source": [
        "arrayPairSum([1,4,3,2])"
      ],
      "execution_count": 78,
      "outputs": [
        {
          "output_type": "execute_result",
          "data": {
            "text/plain": [
              "4"
            ]
          },
          "metadata": {
            "tags": []
          },
          "execution_count": 78
        }
      ]
    },
    {
      "cell_type": "markdown",
      "metadata": {
        "id": "O0bfFchRqAbm"
      },
      "source": [
        "### 11. 자신을 제외한 배열의 곱"
      ]
    },
    {
      "cell_type": "markdown",
      "metadata": {
        "id": "HR99jnFCqMgD"
      },
      "source": [
        "#### 1) 왼쪽 곱셈 결과에 오른쪽 값을 차례대로 곱셈(p.194)"
      ]
    },
    {
      "cell_type": "code",
      "metadata": {
        "id": "pVkPG_wfjJm-"
      },
      "source": [
        "def productExceptSelf(nums:[int]):\n",
        "    out = []\n",
        "    p = 1\n",
        "\n",
        "    for i in range(0, len(nums)):\n",
        "        out.append(p)\n",
        "        p = p * nums[i]\n",
        "        \n",
        "    p = 1\n",
        "\n",
        "    for i in range(len(nums) - 1, 0 - 1, -1):\n",
        "        out[i] = out[i] * p\n",
        "        p = p * nums[i]\n",
        "    \n",
        "    return out"
      ],
      "execution_count": 79,
      "outputs": []
    },
    {
      "cell_type": "code",
      "metadata": {
        "colab": {
          "base_uri": "https://localhost:8080/"
        },
        "id": "YQk2GbMwjWSu",
        "outputId": "f5853648-93d3-4d20-e179-77719e3cc30d"
      },
      "source": [
        "productExceptSelf([1,2,3,4])"
      ],
      "execution_count": 80,
      "outputs": [
        {
          "output_type": "execute_result",
          "data": {
            "text/plain": [
              "[24, 12, 8, 6]"
            ]
          },
          "metadata": {
            "tags": []
          },
          "execution_count": 80
        }
      ]
    },
    {
      "cell_type": "markdown",
      "metadata": {
        "id": "t7QhrDjlqMiZ"
      },
      "source": [
        "### 12. 주식을 사고팔기 가장 좋은 시점"
      ]
    },
    {
      "cell_type": "markdown",
      "metadata": {
        "id": "2BQIqFi2qMlO"
      },
      "source": [
        "#### 1)  브루트 포스로 계산(p.195)"
      ]
    },
    {
      "cell_type": "code",
      "metadata": {
        "id": "kxZ8K0Xcja68"
      },
      "source": [
        "def maxProfit(prices: [int]):\n",
        "    max_price = 0\n",
        "    \n",
        "    for i, price in enumerate(prices):\n",
        "       for j in range(i, len(prices)):\n",
        "           max_price = max(prices[j] - price, max_price)\n",
        "    \n",
        "    return max_price"
      ],
      "execution_count": 81,
      "outputs": []
    },
    {
      "cell_type": "code",
      "metadata": {
        "colab": {
          "base_uri": "https://localhost:8080/"
        },
        "id": "lUpW4SiVjgZ9",
        "outputId": "7ff06014-b7ca-4b76-a244-21b7ea177c08"
      },
      "source": [
        "maxProfit([7,1,5,3,6,4])"
      ],
      "execution_count": 82,
      "outputs": [
        {
          "output_type": "execute_result",
          "data": {
            "text/plain": [
              "5"
            ]
          },
          "metadata": {
            "tags": []
          },
          "execution_count": 82
        }
      ]
    },
    {
      "cell_type": "markdown",
      "metadata": {
        "id": "1-ECL3liqdti"
      },
      "source": [
        "#### 2) 저점과 현재 값과의 차이 계산(p.197)"
      ]
    },
    {
      "cell_type": "code",
      "metadata": {
        "id": "e5HjWo4wjkF2"
      },
      "source": [
        "import sys\n",
        "def maxProfit(prices:[int]):\n",
        "    profit = 0\n",
        "    min_price = sys.maxsize\n",
        "    \n",
        "    for price in prices:\n",
        "        min_price = min(min_price, price)\n",
        "        profit = max(profit, profit - min_price)\n",
        "        \n",
        "    return profit"
      ],
      "execution_count": 83,
      "outputs": []
    },
    {
      "cell_type": "code",
      "metadata": {
        "colab": {
          "base_uri": "https://localhost:8080/"
        },
        "id": "PjhWkFYJqiRm",
        "outputId": "34460c0d-9c1e-4f9b-a8e6-232cfe5a6554"
      },
      "source": [
        "maxProfit([7,1,5,3,6,4])"
      ],
      "execution_count": 84,
      "outputs": [
        {
          "output_type": "execute_result",
          "data": {
            "text/plain": [
              "0"
            ]
          },
          "metadata": {
            "tags": []
          },
          "execution_count": 84
        }
      ]
    }
  ]
}