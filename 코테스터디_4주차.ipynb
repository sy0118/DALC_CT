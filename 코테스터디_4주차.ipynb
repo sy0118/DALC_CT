{
  "nbformat": 4,
  "nbformat_minor": 0,
  "metadata": {
    "colab": {
      "name": "코테스터디_4주차.ipynb",
      "provenance": []
    },
    "kernelspec": {
      "name": "python3",
      "display_name": "Python 3"
    },
    "language_info": {
      "name": "python"
    }
  },
  "cells": [
    {
      "cell_type": "markdown",
      "metadata": {
        "id": "fR5t6p26CbbJ"
      },
      "source": [
        "## 팰린드롬 연결리스트"
      ]
    },
    {
      "cell_type": "code",
      "metadata": {
        "id": "t8Y6ejOEeDwt"
      },
      "source": [
        "class ListNode:\n",
        "  def __init__(self,x):\n",
        "    self.val = x\n",
        "    self.next = None"
      ],
      "execution_count": 1,
      "outputs": []
    },
    {
      "cell_type": "code",
      "metadata": {
        "id": "1GUN0Gp4dZph"
      },
      "source": [
        "class Palindrome:\n",
        "  def isPalindrome(self,head:ListNode) -> bool:\n",
        "    q: List=[]\n",
        "    \n",
        "    if not head:\n",
        "      return True\n",
        "      \n",
        "    node = head\n",
        "    while node is not None:\n",
        "      q.append(node.val)\n",
        "      node=node.next\n",
        "      \n",
        "    while len(q) > 1:\n",
        "      if q.pop(0) != q.pop():\n",
        "        return False\n",
        "        \n",
        "    return True"
      ],
      "execution_count": 2,
      "outputs": []
    },
    {
      "cell_type": "code",
      "metadata": {
        "id": "uOyd_AwAdmvN"
      },
      "source": [
        "head = ListNode(1)\n",
        "head.next = ListNode(2)\n",
        "P = Palindrome()"
      ],
      "execution_count": 3,
      "outputs": []
    },
    {
      "cell_type": "code",
      "metadata": {
        "colab": {
          "base_uri": "https://localhost:8080/"
        },
        "id": "jvnPbZEEdabP",
        "outputId": "e47fba0a-a75e-40a8-e3fa-9a563f0830c3"
      },
      "source": [
        "P.isPalindrome(head)"
      ],
      "execution_count": 4,
      "outputs": [
        {
          "output_type": "execute_result",
          "data": {
            "text/plain": [
              "False"
            ]
          },
          "metadata": {
            "tags": []
          },
          "execution_count": 4
        }
      ]
    },
    {
      "cell_type": "code",
      "metadata": {
        "id": "H0etkqAEdtOh"
      },
      "source": [
        "head = ListNode(1)\n",
        "head.next = ListNode(2)\n",
        "head.next.next = ListNode(2)\n",
        "head.next.next.next = ListNode(1)"
      ],
      "execution_count": 5,
      "outputs": []
    },
    {
      "cell_type": "code",
      "metadata": {
        "colab": {
          "base_uri": "https://localhost:8080/"
        },
        "id": "ki51x242ptXM",
        "outputId": "b99bcafe-a822-4883-b71e-12144203f9f3"
      },
      "source": [
        "P.isPalindrome(head)"
      ],
      "execution_count": 6,
      "outputs": [
        {
          "output_type": "execute_result",
          "data": {
            "text/plain": [
              "True"
            ]
          },
          "metadata": {
            "tags": []
          },
          "execution_count": 6
        }
      ]
    },
    {
      "cell_type": "code",
      "metadata": {
        "id": "IBID1yrupvHX"
      },
      "source": [
        "import collections\n",
        "class Palindrome:\n",
        "  def isPalindrome(self, head:ListNode)->bool:\n",
        "    q = collections.deque()\n",
        "    \n",
        "    if not head:\n",
        "      return True\n",
        "      \n",
        "    node = head\n",
        "    while node is not None:\n",
        "      q.append(node.val)\n",
        "      node=node.next\n",
        "      \n",
        "    while len(q) > 1:\n",
        "      if q.popleft() != q.pop():\n",
        "        return False\n",
        "        \n",
        "    return True"
      ],
      "execution_count": 7,
      "outputs": []
    },
    {
      "cell_type": "code",
      "metadata": {
        "colab": {
          "base_uri": "https://localhost:8080/"
        },
        "id": "yOKFIU11rYpd",
        "outputId": "aeb772dd-0184-47ee-9b8c-5f8d75f0edd6"
      },
      "source": [
        "head = ListNode(1)\n",
        "head.next = ListNode(2)\n",
        "P = Palindrome()\n",
        "P.isPalindrome(head)"
      ],
      "execution_count": 8,
      "outputs": [
        {
          "output_type": "execute_result",
          "data": {
            "text/plain": [
              "False"
            ]
          },
          "metadata": {
            "tags": []
          },
          "execution_count": 8
        }
      ]
    },
    {
      "cell_type": "code",
      "metadata": {
        "colab": {
          "base_uri": "https://localhost:8080/"
        },
        "id": "CFezUR1kreKq",
        "outputId": "12ef1d44-8474-48d3-b008-48a97c82713e"
      },
      "source": [
        "head = ListNode(1)\n",
        "head.next = ListNode(2)\n",
        "head.next.next = ListNode(2)\n",
        "head.next.next.next = ListNode(1)\n",
        "P.isPalindrome(head)"
      ],
      "execution_count": 9,
      "outputs": [
        {
          "output_type": "execute_result",
          "data": {
            "text/plain": [
              "True"
            ]
          },
          "metadata": {
            "tags": []
          },
          "execution_count": 9
        }
      ]
    },
    {
      "cell_type": "code",
      "metadata": {
        "id": "khOgTWgGrhuK"
      },
      "source": [
        "class Solution:\n",
        "    def isPalindrome(self, head: ListNode) -> bool:\n",
        "        rev = None\n",
        "        slow = fast = head\n",
        "        \n",
        "        while fast and fast.next:\n",
        "            fast = fast.next.next\n",
        "            rev, rev.next, slow = slow, rev, slow.next\n",
        "        \n",
        "        if fast:\n",
        "            slow = slow.next\n",
        "        \n",
        "        while rev and slow.val == rev.val:\n",
        "            rev, slow = rev.next, slow.next\n",
        "        \n",
        "        return not rev"
      ],
      "execution_count": 10,
      "outputs": []
    },
    {
      "cell_type": "code",
      "metadata": {
        "colab": {
          "base_uri": "https://localhost:8080/"
        },
        "id": "8p_yUqahv9Nf",
        "outputId": "e5a6ad32-c1d3-41c8-8774-eefcf7980005"
      },
      "source": [
        "head = ListNode(1)\n",
        "head.next = ListNode(2)\n",
        "S = Solution()\n",
        "S.isPalindrome(head)"
      ],
      "execution_count": 11,
      "outputs": [
        {
          "output_type": "execute_result",
          "data": {
            "text/plain": [
              "False"
            ]
          },
          "metadata": {
            "tags": []
          },
          "execution_count": 11
        }
      ]
    },
    {
      "cell_type": "code",
      "metadata": {
        "colab": {
          "base_uri": "https://localhost:8080/"
        },
        "id": "a9kN-G8yB3B_",
        "outputId": "0de70c55-8c96-452b-a1ae-e0e5940d4f11"
      },
      "source": [
        "head = ListNode(1)\n",
        "head.next = ListNode(2)\n",
        "head.next.next = ListNode(2)\n",
        "head.next.next.next = ListNode(1)\n",
        "P.isPalindrome(head)"
      ],
      "execution_count": 12,
      "outputs": [
        {
          "output_type": "execute_result",
          "data": {
            "text/plain": [
              "True"
            ]
          },
          "metadata": {
            "tags": []
          },
          "execution_count": 12
        }
      ]
    },
    {
      "cell_type": "markdown",
      "metadata": {
        "id": "s88PDjaaDNyM"
      },
      "source": [
        "## 두 정렬 리스트의 병합"
      ]
    },
    {
      "cell_type": "code",
      "metadata": {
        "id": "q0ErMb65Df5H"
      },
      "source": [
        "def mergeTwoLists(l1: ListNode, l2: ListNode) -> ListNode:\n",
        "    lst1, lst2 = [], []\n",
        "    while l1:\n",
        "        lst1.append(l1.val)\n",
        "        l1 = l1.next4\n",
        "        \n",
        "    while l2:\n",
        "        lst2.append(l2.val)\n",
        "        l2 = l2.next\n",
        "    lst = lst1 + lst2\n",
        "    lst.sort()\n",
        "    \n",
        "    if not lst:\n",
        "        return None\n",
        "    \n",
        "    head = ListNode(lst[0])\n",
        "    node = head\n",
        "    for i in lst[1:]:\n",
        "        node.next = ListNode(i)\n",
        "        node = node.next\n",
        "        \n",
        "    return head"
      ],
      "execution_count": 13,
      "outputs": []
    },
    {
      "cell_type": "code",
      "metadata": {
        "id": "gcotRgE7Dgb2"
      },
      "source": [
        "def mergeTwoLists(self, l1: ListNode, l2:ListNode) -> ListNode:\n",
        "    if (not l1) or (l2 and l1.val > l2.val):\n",
        "        l1, l2 = l2, l1\n",
        "    if l1:\n",
        "        l1.next = self.mergeTwoLists(l1.next, l2)\n",
        "    return l1"
      ],
      "execution_count": 14,
      "outputs": []
    },
    {
      "cell_type": "markdown",
      "metadata": {
        "id": "JxEGLhZe3SbD"
      },
      "source": [
        "## 역순연결리스트\n",
        "\n"
      ]
    },
    {
      "cell_type": "code",
      "metadata": {
        "id": "QOYk-NQewDlN"
      },
      "source": [
        "class ListNode:\n",
        "    def __init__(self, x):\n",
        "        self.val = x\n",
        "        self.next = None"
      ],
      "execution_count": 15,
      "outputs": []
    },
    {
      "cell_type": "code",
      "metadata": {
        "id": "Tq4w-vuhCvvM"
      },
      "source": [
        "class Solution:\n",
        "    def reverseList(self, head: ListNode) -> ListNode:\n",
        "        node, prev = head, None\n",
        "\n",
        "        while node:\n",
        "            next, node.next = node.next, prev\n",
        "            prev, node = node, next\n",
        "\n",
        "        return prev"
      ],
      "execution_count": 16,
      "outputs": []
    },
    {
      "cell_type": "code",
      "metadata": {
        "id": "fcc8j-ZVCxEr"
      },
      "source": [
        "head = ListNode(1)\n",
        "head.next = ListNode(2)\n",
        "head.next.next = ListNode(3)\n",
        "head.next.next.next = ListNode(4)\n",
        "head.next.next.next.next = ListNode(5)"
      ],
      "execution_count": 17,
      "outputs": []
    },
    {
      "cell_type": "code",
      "metadata": {
        "colab": {
          "base_uri": "https://localhost:8080/"
        },
        "id": "a-yrfGVeDC21",
        "outputId": "35ba7a22-60bf-4bf5-c9af-38036de50c1a"
      },
      "source": [
        "S = Solution()\n",
        "S.reverseList(head)"
      ],
      "execution_count": 18,
      "outputs": [
        {
          "output_type": "execute_result",
          "data": {
            "text/plain": [
              "<__main__.ListNode at 0x7f243bff85d0>"
            ]
          },
          "metadata": {
            "tags": []
          },
          "execution_count": 18
        }
      ]
    },
    {
      "cell_type": "code",
      "metadata": {
        "id": "uWWBAkoJDhxo"
      },
      "source": [
        ""
      ],
      "execution_count": 18,
      "outputs": []
    }
  ]
}