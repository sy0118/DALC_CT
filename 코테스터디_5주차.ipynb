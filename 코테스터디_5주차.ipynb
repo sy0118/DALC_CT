{
  "nbformat": 4,
  "nbformat_minor": 0,
  "metadata": {
    "colab": {
      "name": "코테스터디_5주차.ipynb",
      "provenance": []
    },
    "kernelspec": {
      "name": "python3",
      "display_name": "Python 3"
    },
    "language_info": {
      "name": "python"
    }
  },
  "cells": [
    {
      "cell_type": "markdown",
      "metadata": {
        "id": "VFNiLL_UMDru"
      },
      "source": [
        "## 18 홀짝 연결 리스트"
      ]
    },
    {
      "cell_type": "code",
      "metadata": {
        "id": "CAijCo_AP7gj"
      },
      "source": [
        "def oddEvenList(self,head):\n",
        "  #예외처리\n",
        "  if head is None:\n",
        "    return None\n",
        "\n",
        "  odd = head\n",
        "  even = head.next\n",
        "  even_head = head.next\n",
        "\n",
        "  #반복하면서 홀짝 노드 처리\n",
        "  while even and even.next:\n",
        "    odd.next, even.next = odd.next.next, even.next.next\n",
        "    odd, even = odd.next, even.next\n",
        "\n",
        "  #홀수 노드의 마지막을 짝수 헤드로 연결\n",
        "  odd.next = even_head\n",
        "  return head"
      ],
      "execution_count": 4,
      "outputs": []
    },
    {
      "cell_type": "markdown",
      "metadata": {
        "id": "udORKAa3Q374"
      },
      "source": [
        "## 19 역순 연결리스트 II"
      ]
    },
    {
      "cell_type": "code",
      "metadata": {
        "id": "1wHR2ZvwP7my"
      },
      "source": [
        "def reversebetween(self,head,m,n):\n",
        "  #예외 처리\n",
        "  if not head or m == n:\n",
        "    return head\n",
        "\n",
        "  root = start = ListNode(None)\n",
        "  root.next = head\n",
        "  #start,end = head\n",
        "  for _ in range(m-1):\n",
        "    start = start.next\n",
        "  end = start.next\n",
        "\n",
        "  #반복하면서 노드 차례대로 뒤집기\n",
        "  for _ in range(n-m):\n",
        "    tmp, start.next, end.next = start.next, end.next, end.next.next\n",
        "    start.next.next = tmp\n",
        "  return root.next"
      ],
      "execution_count": 5,
      "outputs": []
    },
    {
      "cell_type": "markdown",
      "metadata": {
        "id": "wOc8fgS2LURI"
      },
      "source": [
        "## 20 유효한 괄호"
      ]
    },
    {
      "cell_type": "code",
      "metadata": {
        "id": "4sVIF8ybLWi_"
      },
      "source": [
        "def isValid(Self, s: str) -> bool:\n",
        "    stack = []\n",
        "    table = {\n",
        "        ')':'(',\n",
        "        '}':'{',\n",
        "        ']':'[',\n",
        "    }\n",
        "    \n",
        "    # 스택 이용 예외 처리 및 일치 여부 판별\n",
        "    for char in s:\n",
        "        if char not in table:\n",
        "            stack.append(char)\n",
        "            \n",
        "        elif not stack or table[char] != stack.pop():\n",
        "            return False\n",
        "        \n",
        "    return len(stack) == 0"
      ],
      "execution_count": 1,
      "outputs": []
    }
  ]
}