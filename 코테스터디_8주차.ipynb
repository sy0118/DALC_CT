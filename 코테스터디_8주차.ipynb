{
  "nbformat": 4,
  "nbformat_minor": 0,
  "metadata": {
    "colab": {
      "name": "코테스터디_8주차.ipynb",
      "provenance": []
    },
    "kernelspec": {
      "name": "python3",
      "display_name": "Python 3"
    },
    "language_info": {
      "name": "python"
    }
  },
  "cells": [
    {
      "cell_type": "markdown",
      "metadata": {
        "id": "XuHM7hVOStF-"
      },
      "source": [
        "## 29번 보석과 돌"
      ]
    },
    {
      "cell_type": "code",
      "metadata": {
        "id": "dNXKp8Q9STbO"
      },
      "source": [
        "class Solution:\n",
        "    def numJewelsInStones(self, J: str, S: str) -> int:\n",
        "        freqs = {}\n",
        "        count = 0\n",
        "\n",
        "        for char in S:\n",
        "            if char not in freqs:\n",
        "                freqs[char] = 1\n",
        "            else:\n",
        "                freqs[char] += 1\n",
        "\n",
        "        for char in J:\n",
        "            if char in freqs:\n",
        "                count += freqs[char]\n",
        "\n",
        "        return count"
      ],
      "execution_count": 1,
      "outputs": []
    },
    {
      "cell_type": "code",
      "metadata": {
        "colab": {
          "base_uri": "https://localhost:8080/"
        },
        "id": "lRKAoSDzSZjb",
        "outputId": "d415822e-1db7-4958-f391-c73b9c529d49"
      },
      "source": [
        "Solution().numJewelsInStones(J='aA',S='aAAbbbb')"
      ],
      "execution_count": 2,
      "outputs": [
        {
          "output_type": "execute_result",
          "data": {
            "text/plain": [
              "3"
            ]
          },
          "metadata": {
            "tags": []
          },
          "execution_count": 2
        }
      ]
    },
    {
      "cell_type": "markdown",
      "metadata": {
        "id": "aoP7Pg6OS1XA"
      },
      "source": [
        "## 30번 중복 문자 없는 가장 긴 부분 문자열"
      ]
    },
    {
      "cell_type": "code",
      "metadata": {
        "id": "KmlBv6nxSbbg"
      },
      "source": [
        "class Solution:\n",
        "    def lengthOfLongestSubstring(self, s: str) -> int:\n",
        "        used = {}\n",
        "        max_length = start = 0\n",
        "        for index, char in enumerate(s):\n",
        "           \n",
        "            if char in used and start <= used[char]:\n",
        "                start = used[char] + 1\n",
        "            else:  \n",
        "                max_length = max(max_length, index - start + 1)\n",
        "\n",
        "      \n",
        "            used[char] = index\n",
        "\n",
        "        return max_length"
      ],
      "execution_count": 3,
      "outputs": []
    },
    {
      "cell_type": "code",
      "metadata": {
        "colab": {
          "base_uri": "https://localhost:8080/"
        },
        "id": "pr7CEqW_Sdch",
        "outputId": "8f09d74f-f21c-4be4-a376-69aea0262048"
      },
      "source": [
        "Solution().lengthOfLongestSubstring(\"abcabcbb\")"
      ],
      "execution_count": 4,
      "outputs": [
        {
          "output_type": "execute_result",
          "data": {
            "text/plain": [
              "3"
            ]
          },
          "metadata": {
            "tags": []
          },
          "execution_count": 4
        }
      ]
    },
    {
      "cell_type": "markdown",
      "metadata": {
        "id": "-TeTnPT6TqBg"
      },
      "source": [
        "## 33번 전화번호 문자 조합"
      ]
    },
    {
      "cell_type": "code",
      "metadata": {
        "id": "iSzB5KAyTrzQ"
      },
      "source": [
        "class Solution:\n",
        "    def letterCombinations(digits):\n",
        "        def dfs(index, path):\n",
        "            if len(path) == len(digits):\n",
        "                result.append(path)\n",
        "                return\n",
        "\n",
        "            for i in range(index, len(digits)):\n",
        "                for j in dic[digits[i]]:\n",
        "                    dfs(i + 1, path + j)\n",
        "\n",
        "        if not digits:\n",
        "            return []\n",
        "\n",
        "        dic = {\"2\": \"abc\", \"3\": \"def\", \"4\": \"ghi\", \"5\": \"jkl\", \"6\": \"mno\", \"7\": \"pqrs\", \"8\": \"tuv\", \"9\": \"wxyz\"}\n",
        "        result = []\n",
        "        dfs(0, \"\")\n",
        "\n",
        "        return result"
      ],
      "execution_count": 15,
      "outputs": []
    },
    {
      "cell_type": "code",
      "metadata": {
        "colab": {
          "base_uri": "https://localhost:8080/"
        },
        "id": "g4lIB4XMTubc",
        "outputId": "257f0bd9-ee97-4a16-ab94-1f8a38285c1d"
      },
      "source": [
        "Solution.letterCombinations(digits='23')"
      ],
      "execution_count": 16,
      "outputs": [
        {
          "output_type": "execute_result",
          "data": {
            "text/plain": [
              "['ad', 'ae', 'af', 'bd', 'be', 'bf', 'cd', 'ce', 'cf']"
            ]
          },
          "metadata": {
            "tags": []
          },
          "execution_count": 16
        }
      ]
    },
    {
      "cell_type": "markdown",
      "metadata": {
        "id": "1whcRy97S-ih"
      },
      "source": [
        "## 34번 순열"
      ]
    },
    {
      "cell_type": "code",
      "metadata": {
        "id": "HccaaZeYSewx"
      },
      "source": [
        "class Solution:\n",
        "    def permute(nums):\n",
        "        results = []\n",
        "        prev_elements = []\n",
        "\n",
        "        def dfs(elements):\n",
        "            if len(elements) == 0:\n",
        "                results.append(prev_elements[:])\n",
        "\n",
        "            for e in elements:\n",
        "                next_elements = elements[:]\n",
        "                next_elements.remove(e)\n",
        "\n",
        "                prev_elements.append(e)\n",
        "                dfs(next_elements)\n",
        "                prev_elements.pop()\n",
        "\n",
        "        dfs(nums)\n",
        "        return results"
      ],
      "execution_count": 11,
      "outputs": []
    },
    {
      "cell_type": "code",
      "metadata": {
        "colab": {
          "base_uri": "https://localhost:8080/"
        },
        "id": "tOr4ZgsWTDfG",
        "outputId": "ca173ca4-02b3-4dfc-d84d-7433db583f0f"
      },
      "source": [
        "Solution.permute(nums=[1,2,3])"
      ],
      "execution_count": 12,
      "outputs": [
        {
          "output_type": "execute_result",
          "data": {
            "text/plain": [
              "[[1, 2, 3], [1, 3, 2], [2, 1, 3], [2, 3, 1], [3, 1, 2], [3, 2, 1]]"
            ]
          },
          "metadata": {
            "tags": []
          },
          "execution_count": 12
        }
      ]
    },
    {
      "cell_type": "code",
      "metadata": {
        "id": "uMkC5xbWTLGE"
      },
      "source": [
        ""
      ],
      "execution_count": null,
      "outputs": []
    }
  ]
}