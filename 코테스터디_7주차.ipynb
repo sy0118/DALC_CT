{
  "nbformat": 4,
  "nbformat_minor": 0,
  "metadata": {
    "colab": {
      "name": "코테스터디_7주차.ipynb",
      "provenance": []
    },
    "kernelspec": {
      "name": "python3",
      "display_name": "Python 3"
    },
    "language_info": {
      "name": "python"
    }
  },
  "cells": [
    {
      "cell_type": "markdown",
      "metadata": {
        "id": "zVfWwPaaPxUQ"
      },
      "source": [
        "## 28번 해시맵 디자인"
      ]
    },
    {
      "cell_type": "code",
      "metadata": {
        "id": "x2CjW82hPHuQ"
      },
      "source": [
        "class MyHashMap:\n",
        "  #초기화\n",
        "\n",
        "  def __init__(self):\n",
        "    self.size = 1000\n",
        "    self.table = collections.defaultdict(ListNode)\n",
        "\n",
        "  #삽입\n",
        "  def put(self, key: int, value: int) -> None:\n",
        "    index = key % self.size\n",
        "\n",
        "    if self.table[index].value is None:\n",
        "      self.table[index] = ListNode(key, value)\n",
        "      return\n",
        "\n",
        "    p = self.table[index]\n",
        "    while p:\n",
        "      if p.key == key:\n",
        "        p.value = value\n",
        "        return\n",
        "      if p.next is None:\n",
        "        break\n",
        "      p = p.next\n",
        "    p.next = ListNode(key, value)\n",
        "\n",
        "  #조회\n",
        "  def get(self, key:int) -> int:\n",
        "    index = key % self.size\n",
        "    if self.table[index].value is None:\n",
        "      return -1\n",
        "\n",
        "      p = self.table[index]\n",
        "      while p:\n",
        "        if p.key == key:\n",
        "          return p.value\n",
        "        p = p.next\n",
        "      return -1\n",
        "\n",
        "  #삭제\n",
        "  def remove(self, key:int) -> None:\n",
        "    index = key % self.size\n",
        "    if self.table[index].value is None:\n",
        "      return \n",
        "\n",
        "    p = self.table[index]\n",
        "    if p.key == key:\n",
        "      self.table[index] = ListNode() if p.next is None else p.next\n",
        "      return\n",
        "\n",
        "    prev = p\n",
        "    while p:\n",
        "      if p.key == key:\n",
        "        prev.next = p.next\n",
        "        return\n",
        "      prev, p = p, p.next"
      ],
      "execution_count": 8,
      "outputs": []
    },
    {
      "cell_type": "markdown",
      "metadata": {
        "id": "dwdWJxrmQIq2"
      },
      "source": [
        "## 29번 보석과 돌"
      ]
    },
    {
      "cell_type": "code",
      "metadata": {
        "id": "MwdARUOgPIoZ"
      },
      "source": [
        "class Solution:\n",
        "    def numJewelsInStones( J: str, S: str) -> int:\n",
        "        freqs = {}\n",
        "        count = 0\n",
        "        \n",
        "        for char in S:\n",
        "            if char not in freqs:\n",
        "                freqs[char] = 1\n",
        "            else:\n",
        "                freqs[char] += 1\n",
        "\n",
        "        for char in J:\n",
        "            if char in freqs:\n",
        "                count += freqs[char]\n",
        "\n",
        "        return count"
      ],
      "execution_count": 9,
      "outputs": []
    },
    {
      "cell_type": "code",
      "metadata": {
        "colab": {
          "base_uri": "https://localhost:8080/"
        },
        "id": "tG1qVWr4PdMC",
        "outputId": "840323b5-2dc9-430b-bee5-c9fba90aae20"
      },
      "source": [
        "Solution.numJewelsInStones(J='aA',S='aAAbbbb')"
      ],
      "execution_count": 10,
      "outputs": [
        {
          "output_type": "execute_result",
          "data": {
            "text/plain": [
              "3"
            ]
          },
          "metadata": {
            "tags": []
          },
          "execution_count": 10
        }
      ]
    },
    {
      "cell_type": "code",
      "metadata": {
        "id": "-PFgeQAuQR9-"
      },
      "source": [
        "def numJewelsInStones(J:str, S:str) -> int:\n",
        "  return sum(s in J for s in S)"
      ],
      "execution_count": 13,
      "outputs": []
    },
    {
      "cell_type": "code",
      "metadata": {
        "colab": {
          "base_uri": "https://localhost:8080/"
        },
        "id": "UWPRz_7HQfqJ",
        "outputId": "4cedb611-0565-4b36-8208-cd1cb670eccb"
      },
      "source": [
        "numJewelsInStones(J='aA',S='aAAbbbb')"
      ],
      "execution_count": 14,
      "outputs": [
        {
          "output_type": "execute_result",
          "data": {
            "text/plain": [
              "3"
            ]
          },
          "metadata": {
            "tags": []
          },
          "execution_count": 14
        }
      ]
    },
    {
      "cell_type": "markdown",
      "metadata": {
        "id": "XzbRSDZ2QMkd"
      },
      "source": [
        "## 30번 중복 문자 없는 가장 긴 부분 문자열"
      ]
    },
    {
      "cell_type": "code",
      "metadata": {
        "id": "CEn4wIUgPKbN"
      },
      "source": [
        "class Solution:\n",
        "    def lengthOfLongestSubstring(s: str) -> int:\n",
        "        used = {}\n",
        "        max_length = start = 0\n",
        "        for index, char in enumerate(s):\n",
        "            if char in used and start <= used[char]:\n",
        "                start = used[char] + 1\n",
        "            else:  \n",
        "                max_length = max(max_length, index - start + 1)\n",
        "\n",
        "            used[char] = index\n",
        "\n",
        "        return max_length"
      ],
      "execution_count": 17,
      "outputs": []
    },
    {
      "cell_type": "code",
      "metadata": {
        "colab": {
          "base_uri": "https://localhost:8080/"
        },
        "id": "3Q4i2w0wPL7q",
        "outputId": "4e5755d2-3774-42ed-f27a-a34a98cc4ca6"
      },
      "source": [
        "Solution.lengthOfLongestSubstring(s='abcabcbb')"
      ],
      "execution_count": 18,
      "outputs": [
        {
          "output_type": "execute_result",
          "data": {
            "text/plain": [
              "3"
            ]
          },
          "metadata": {
            "tags": []
          },
          "execution_count": 18
        }
      ]
    },
    {
      "cell_type": "code",
      "metadata": {
        "colab": {
          "base_uri": "https://localhost:8080/"
        },
        "id": "KDdCWVnhQ3SY",
        "outputId": "0c21346a-8ccc-4a4f-e174-a1eedca8ea15"
      },
      "source": [
        "Solution.lengthOfLongestSubstring(s='bbbbb')"
      ],
      "execution_count": 19,
      "outputs": [
        {
          "output_type": "execute_result",
          "data": {
            "text/plain": [
              "1"
            ]
          },
          "metadata": {
            "tags": []
          },
          "execution_count": 19
        }
      ]
    },
    {
      "cell_type": "code",
      "metadata": {
        "colab": {
          "base_uri": "https://localhost:8080/"
        },
        "id": "G6omNIeERILJ",
        "outputId": "967fdef0-44cb-4493-ff23-68fc23e93ba3"
      },
      "source": [
        "Solution.lengthOfLongestSubstring(s='pwwkew')"
      ],
      "execution_count": 20,
      "outputs": [
        {
          "output_type": "execute_result",
          "data": {
            "text/plain": [
              "3"
            ]
          },
          "metadata": {
            "tags": []
          },
          "execution_count": 20
        }
      ]
    },
    {
      "cell_type": "code",
      "metadata": {
        "id": "LQjtWLgBRKkp"
      },
      "source": [
        ""
      ],
      "execution_count": null,
      "outputs": []
    }
  ]
}